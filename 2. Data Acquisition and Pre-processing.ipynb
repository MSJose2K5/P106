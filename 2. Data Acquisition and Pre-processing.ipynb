{
 "cells": [
  {
   "cell_type": "markdown",
   "metadata": {},
   "source": [
    "<table style=\"font-size: 1em; padding: 0; margin: 0;\">\n",
    "\n",
    "<tr style=\"vertical-align: top; padding: 0; margin: 0;background-color: #ffffff\">\n",
    "        <td style=\"vertical-align: top; padding: 0; margin: 0; padding-right: 15px;\">\n",
    "    <p style=\"background: #182AEB; color:#ffffff; text-align:justify; padding: 10px 25px;\">\n",
    "        <strong style=\"font-size: 1.0em;\"><span style=\"font-size: 1.2em;\"><span style=\"color: #ffffff;\">Deep Learning </span> for Satellite Image Classification</span> (Manning Publications)<br/>by <em>Daniel Buscombe</em></strong><br/><br/>\n",
    "        <strong>> Chapter 2: Deliverable Solution </strong><br/>\n",
    "    </p>           "
   ]
  },
  {
   "cell_type": "markdown",
   "metadata": {},
   "source": [
    "Load the necessary libraries"
   ]
  },
  {
   "cell_type": "code",
   "execution_count": null,
   "metadata": {},
   "outputs": [],
   "source": [
    "from PIL import Image, ImageDraw\n",
    "import matplotlib\n",
    "import matplotlib.pyplot as plt\n",
    "import numpy as np\n",
    "import json, os, glob\n",
    "import rasterio"
   ]
  },
  {
   "cell_type": "markdown",
   "metadata": {},
   "source": [
    "Repurpose the ```make_plot``` function from Part 2 tutorial, using only the parts used to extract the coordinates from each lake polygon"
   ]
  },
  {
   "cell_type": "code",
   "execution_count": null,
   "metadata": {},
   "outputs": [],
   "source": [
    "def get_data(data):\n",
    "    X = []; Y = [] #pre-allocate lists to fill in a for loop\n",
    "    for k in data['regions']: #cycle through each polygon\n",
    "        # get the x and y points from the dictionary\n",
    "        X.append(data['regions'][k]['shape_attributes']['all_points_x'])\n",
    "        Y.append(data['regions'][k]['shape_attributes']['all_points_y'])\n",
    "    return Y,X #image coordinates are flipped relative to json coordinates"
   ]
  },
  {
   "cell_type": "markdown",
   "metadata": {},
   "source": [
    "Create a new directory to store your label images"
   ]
  },
  {
   "cell_type": "code",
   "execution_count": null,
   "metadata": {},
   "outputs": [],
   "source": [
    "os.mkdir('s2cloudless_label_imagery')\n",
    "os.mkdir('s2cloudless_label_imagery'+os.sep+'data')"
   ]
  },
  {
   "cell_type": "markdown",
   "metadata": {},
   "source": [
    "This function gets the X,Y polygon coordinates, creates a mask, and saves the mask to file. The function is composed mostly of commands shown in the Part 2 tutorial"
   ]
  },
  {
   "cell_type": "code",
   "execution_count": null,
   "metadata": {},
   "outputs": [],
   "source": [
    "def write_mask(data, images, all_images, i):\n",
    "    X, Y = get_data(data[images[i]])\n",
    "    \n",
    "    # get the dimensions of the image\n",
    "    nx, ny, nz = np.shape(all_images[i])\n",
    "    mask = np.zeros((ny,nx))\n",
    "    \n",
    "    for x,y in zip(X,Y):\n",
    "        # the ImageDraw.Draw().polygon function we will use to create the mask\n",
    "        # requires the x's and y's are interweaved, which is what the following\n",
    "        # one-liner does    \n",
    "        polygon = np.vstack((x,y)).reshape((-1,),order='F').tolist()\n",
    "        \n",
    "        # create a mask image of the right size and infill according to the polygon\n",
    "        if nx>ny:\n",
    "            x,y = y,x \n",
    "            img = Image.new('L', (ny, nx), 0)\n",
    "        elif ny>nx:\n",
    "            x,y = y,x \n",
    "            img = Image.new('L', (ny, nx), 0)            \n",
    "        else:\n",
    "            img = Image.new('L', (nx, ny), 0)\n",
    "        ImageDraw.Draw(img).polygon(polygon, outline=1, fill=1)\n",
    "        # turn into a numpy array\n",
    "        m = np.flipud(np.rot90(np.array(img)))\n",
    "        try:\n",
    "            mask = mask + m\n",
    "        except:\n",
    "            mask = mask + m.T\n",
    "    matplotlib.image.imsave('s2cloudless_label_imagery'+os.sep+'data'+os.sep+images[i]+\"_mask.jpg\", mask.astype('uint8'))    "
   ]
  },
  {
   "cell_type": "markdown",
   "metadata": {},
   "source": [
    "Load the VGG-JSON labels file and extract the list of sample images"
   ]
  },
  {
   "cell_type": "code",
   "execution_count": null,
   "metadata": {},
   "outputs": [],
   "source": [
    "data = json.load(open('..'+os.sep+'2_Data'+os.sep+'s2cloudless_labels'+os.sep+'all_labels.json'))\n",
    "images = sorted(data.keys())"
   ]
  },
  {
   "cell_type": "markdown",
   "metadata": {},
   "source": [
    "Load all the image samples into an array, like in the Part tutorial"
   ]
  },
  {
   "cell_type": "code",
   "execution_count": null,
   "metadata": {},
   "outputs": [],
   "source": [
    "all_images = []\n",
    "for image in images:\n",
    "    with rasterio.open('..'+os.sep+'2_Data'+os.sep+'s2cloudless_imagery'+os.sep+'data'+os.sep+image) as dataset:\n",
    "        all_images.append(dataset.read().T)"
   ]
  },
  {
   "cell_type": "markdown",
   "metadata": {},
   "source": [
    "Call ```write mask``` to write the image mask for each image sample, according to the information in ```data```, the json label structure"
   ]
  },
  {
   "cell_type": "code",
   "execution_count": null,
   "metadata": {},
   "outputs": [],
   "source": [
    "for i in range(len(images)):\n",
    "    write_mask(data, images, all_images, i)"
   ]
  },
  {
   "cell_type": "markdown",
   "metadata": {},
   "source": [
    "Use ```glob``` to load a list of these image filenames, then read then into an array ```all_labels``` one-by-one"
   ]
  },
  {
   "cell_type": "code",
   "execution_count": null,
   "metadata": {},
   "outputs": [],
   "source": [
    "labels = sorted(glob.glob('s2cloudless_label_imagery'+os.sep+'data'+os.sep+'*.jpg'))"
   ]
  },
  {
   "cell_type": "code",
   "execution_count": null,
   "metadata": {},
   "outputs": [],
   "source": [
    "all_labels = []\n",
    "for image in labels:\n",
    "    with rasterio.open(image) as dataset:\n",
    "        all_labels.append(dataset.read().T[:,:,0]) #np.flipud(np.rot90("
   ]
  },
  {
   "cell_type": "markdown",
   "metadata": {},
   "source": [
    "Overlay a mask on an image to double-check that worked"
   ]
  },
  {
   "cell_type": "code",
   "execution_count": null,
   "metadata": {},
   "outputs": [],
   "source": [
    "plt.imshow(all_images[10])\n",
    "plt.imshow(all_labels[10], cmap='gray', alpha=0.5)"
   ]
  },
  {
   "cell_type": "code",
   "execution_count": null,
   "metadata": {},
   "outputs": [],
   "source": []
  }
 ],
 "metadata": {
  "kernelspec": {
   "display_name": "Python 3",
   "language": "python",
   "name": "python3"
  },
  "language_info": {
   "codemirror_mode": {
    "name": "ipython",
    "version": 3
   },
   "file_extension": ".py",
   "mimetype": "text/x-python",
   "name": "python",
   "nbconvert_exporter": "python",
   "pygments_lexer": "ipython3",
   "version": "3.7.4"
  }
 },
 "nbformat": 4,
 "nbformat_minor": 2
}

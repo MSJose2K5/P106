{
  "nbformat": 4,
  "nbformat_minor": 0,
  "metadata": {
    "kernelspec": {
      "display_name": "Python 3",
      "language": "python",
      "name": "python3"
    },
    "language_info": {
      "codemirror_mode": {
        "name": "ipython",
        "version": 3
      },
      "file_extension": ".py",
      "mimetype": "text/x-python",
      "name": "python",
      "nbconvert_exporter": "python",
      "pygments_lexer": "ipython3",
      "version": "3.7.4"
    },
    "colab": {
      "name": "Part1_Solution.ipynb",
      "provenance": []
    }
  },
  "cells": [
    {
      "cell_type": "markdown",
      "metadata": {
        "id": "W89KmCZNW_vr",
        "colab_type": "text"
      },
      "source": [
        "<table style=\"font-size: 1em; padding: 0; margin: 0;\">\n",
        "\n",
        "<tr style=\"vertical-align: top; padding: 0; margin: 0;background-color: #ffffff\">\n",
        "        <td style=\"vertical-align: top; padding: 0; margin: 0; padding-right: 15px;\">\n",
        "    <p style=\"background: #182AEB; color:#ffffff; text-align:justify; padding: 10px 25px;\">\n",
        "        <strong style=\"font-size: 1.0em;\"><span style=\"font-size: 1.2em;\"><span style=\"color: #ffffff;\">Deep Learning </span> for Satellite Image Classification</span> (Manning Publications)<br/>by <em>Daniel Buscombe</em></strong><br/><br/>\n",
        "        <strong>> Chapter 1: Deliverable Solution </strong><br/>\n",
        "    </p>  "
      ]
    },
    {
      "cell_type": "markdown",
      "metadata": {
        "id": "doNBqBMRW_vu",
        "colab_type": "text"
      },
      "source": [
        "Load an image. I'm using one from the inbuilt CIFAR10 dataset. I take the first image and delete the rest"
      ]
    },
    {
      "cell_type": "code",
      "metadata": {
        "id": "hEO4otSOW_vw",
        "colab_type": "code",
        "colab": {}
      },
      "source": [
        "import tensorflow as tf\n",
        "\n",
        "(x_train, _), (_, _) = tf.keras.datasets.cifar10.load_data()\n",
        "img = x_train[0]\n",
        "del x_train"
      ],
      "execution_count": 0,
      "outputs": []
    },
    {
      "cell_type": "markdown",
      "metadata": {
        "id": "mFEna9dMW_v3",
        "colab_type": "text"
      },
      "source": [
        "Check the dimensions of the image"
      ]
    },
    {
      "cell_type": "code",
      "metadata": {
        "id": "6aG0scwXW_v5",
        "colab_type": "code",
        "colab": {},
        "outputId": "96482278-f518-4d07-f93a-bedbf01a1764"
      },
      "source": [
        "img.shape"
      ],
      "execution_count": 0,
      "outputs": [
        {
          "output_type": "execute_result",
          "data": {
            "text/plain": [
              "(32, 32, 3)"
            ]
          },
          "metadata": {
            "tags": []
          },
          "execution_count": 5
        }
      ]
    },
    {
      "cell_type": "markdown",
      "metadata": {
        "id": "uFeQlveKW_wF",
        "colab_type": "text"
      },
      "source": [
        "Use ```tf.image``` commands, first to double the size of the image"
      ]
    },
    {
      "cell_type": "code",
      "metadata": {
        "id": "YzUZE0ToW_wR",
        "colab_type": "code",
        "colab": {}
      },
      "source": [
        "img_array = tf.image.resize(\n",
        "    img,\n",
        "    (64,64),\n",
        "    preserve_aspect_ratio=True,\n",
        "    antialias=False,\n",
        "    name=None)"
      ],
      "execution_count": 0,
      "outputs": []
    },
    {
      "cell_type": "markdown",
      "metadata": {
        "id": "3PRWw4D0W_wW",
        "colab_type": "text"
      },
      "source": [
        "... then to rotate the image 90 degrees"
      ]
    },
    {
      "cell_type": "code",
      "metadata": {
        "id": "rovZSYFIW_wX",
        "colab_type": "code",
        "colab": {}
      },
      "source": [
        "img_r = tf.image.rot90(img_array)"
      ],
      "execution_count": 0,
      "outputs": []
    },
    {
      "cell_type": "markdown",
      "metadata": {
        "id": "mjP8jfQPW_wc",
        "colab_type": "text"
      },
      "source": [
        "Plot the result"
      ]
    },
    {
      "cell_type": "code",
      "metadata": {
        "id": "RGGrukdCW_wc",
        "colab_type": "code",
        "colab": {}
      },
      "source": [
        "%matplotlib inline\n",
        "import matplotlib.pyplot as plt   "
      ],
      "execution_count": 0,
      "outputs": []
    },
    {
      "cell_type": "code",
      "metadata": {
        "id": "Qqtnix0YW_wd",
        "colab_type": "code",
        "colab": {},
        "outputId": "2c892f2b-611d-4a45-b338-f2a53bd83aab"
      },
      "source": [
        "plt.subplot(121)\n",
        "plt.imshow(img, cmap='gray')\n",
        "plt.subplot(122)\n",
        "plt.imshow(img_r.numpy().astype('uint8'), cmap='gray')"
      ],
      "execution_count": 0,
      "outputs": [
        {
          "output_type": "execute_result",
          "data": {
            "text/plain": [
              "<matplotlib.image.AxesImage at 0x173149d6688>"
            ]
          },
          "metadata": {
            "tags": []
          },
          "execution_count": 22
        },
        {
          "output_type": "display_data",
          "data": {
            "image/png": "[encoded data removed]",
            "text/plain": [
              "<Figure size 432x288 with 2 Axes>"
            ]
          },
          "metadata": {
            "tags": [],
            "needs_background": "light"
          }
        }
      ]
    }
  ]
}